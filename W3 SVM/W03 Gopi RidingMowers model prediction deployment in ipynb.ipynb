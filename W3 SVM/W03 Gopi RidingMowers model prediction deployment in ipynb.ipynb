{
 "cells": [
  {
   "cell_type": "markdown",
   "id": "7c0eda67",
   "metadata": {},
   "source": [
    "# The RidingMowers Ownership Prediction"
   ]
  },
  {
   "cell_type": "code",
   "execution_count": 1,
   "id": "02f091f7",
   "metadata": {},
   "outputs": [
    {
     "name": "stdout",
     "output_type": "stream",
     "text": [
      "\n",
      "*****************************************************\n",
      "* The RidingMowers Ownership Prediction *\n",
      "*****************************************************\n",
      "\n",
      "Enter the Income: 100\n",
      "Enter the Lot_size: 20\n",
      "\n",
      " The Income is 100.0$ and Lot_Size is 20.0 and prediction model indicates probability of ownership at 0.8302, therefore it's indicates that the person should be owner.\n",
      "\n",
      "Do you want to make another prediction? (y/n): y\n",
      "Enter the Income: 110\n",
      "Enter the Lot_size: 20\n",
      "\n",
      " The Income is 110.0$ and Lot_Size is 20.0 and prediction model indicates probability of ownership at 0.8749, therefore it's indicates that the person should be owner.\n",
      "\n",
      "Do you want to make another prediction? (y/n): y\n",
      "Enter the Income: 90\n",
      "Enter the Lot_size: 12\n",
      "\n",
      " The Income is 90.0$ and Lot_Size is 12.0 and prediction model indicates probability of ownership at 0.5000, therefore it's indicates that the person should be Nonowner.\n",
      "\n",
      "Do you want to make another prediction? (y/n): y\n",
      "Enter the Income: 78\n",
      "Enter the Lot_size: 14\n",
      "\n",
      " The Income is 78.0$ and Lot_Size is 14.0 and prediction model indicates probability of ownership at 0.4690, therefore it's indicates that the person should be Nonowner.\n",
      "\n",
      "Do you want to make another prediction? (y/n): y\n",
      "Enter the Income: 87\n",
      "Enter the Lot_size: 14\n",
      "\n",
      " The Income is 87.0$ and Lot_Size is 14.0 and prediction model indicates probability of ownership at 0.5492, therefore it's indicates that the person should be owner.\n",
      "\n",
      "Do you want to make another prediction? (y/n): y\n",
      "Enter the Income: 200\n",
      "Enter the Lot_size: 45\n",
      "\n",
      " The Income is 200.0$ and Lot_Size is 45.0 and prediction model indicates probability of ownership at 1.0000, therefore it's indicates that the person should be owner.\n",
      "\n",
      "Do you want to make another prediction? (y/n): y\n",
      "Enter the Income: 50\n",
      "Enter the Lot_size: 25\n",
      "\n",
      " The Income is 50.0$ and Lot_Size is 25.0 and prediction model indicates probability of ownership at 0.6424, therefore it's indicates that the person should be owner.\n",
      "\n",
      "Do you want to make another prediction? (y/n): y\n",
      "Enter the Income: 50\n",
      "Enter the Lot_size: 4\n",
      "\n",
      " The Income is 50.0$ and Lot_Size is 4.0 and prediction model indicates probability of ownership at 0.0650, therefore it's indicates that the person should be Nonowner.\n",
      "\n",
      "Do you want to make another prediction? (y/n): n\n"
     ]
    }
   ],
   "source": [
    "import pandas as pd\n",
    "import numpy as np\n",
    "from sklearn.metrics import confusion_matrix\n",
    "\n",
    "import pickle\n",
    "\n",
    "# Uncomment the following snippet of code to debug problems with finding the .pkl file path\n",
    "# This snippet of code will exit the program and print the current working directory.\n",
    "#import os\n",
    "#exit(os.getcwd())\n",
    "\n",
    "# load the pre-trained SVM model\n",
    "RidingMowers_model = pickle.load(open('SVM_Linear_model_1.pkl', 'rb'))\n",
    "\n",
    "print(\"\\n*****************************************************\")\n",
    "print(\"* The RidingMowers Ownership Prediction *\")\n",
    "print(\"*****************************************************\\n\")\n",
    "\n",
    "# use a while loop to repeatedly ask for inputs and generate predictions\n",
    "while True:\n",
    "    # ask for inputs from the user\n",
    "    Income = float(input(\"Enter the Income: \"))\n",
    "    Lot_Size = float(input(\"Enter the Lot_size: \"))\n",
    "\n",
    "    # create a pandas dataframe from the input values\n",
    "    df = pd.DataFrame({'Income': [Income],'Lot_Size': [Lot_Size]})\n",
    "\n",
    "    # generate a prediction for the input dataframe\n",
    "    result = RidingMowers_model.predict(df)\n",
    "    probability = RidingMowers_model.predict_proba(df)\n",
    "    label = (\"Nonowner\",\"owner\")\n",
    "\n",
    "    # print the input values and predicted label\n",
    "    print(f\"\\n The Income is {Income}$ and Lot_Size is {Lot_Size} and prediction model indicates probability of ownership at {probability[0][1]:.4f}, therefore it's indicates that the person should be {label[result[0]]}.\\n\")\n",
    "\n",
    "    # ask the user if they want to make another prediction\n",
    "    choice = input(\"Do you want to make another prediction? (y/n): \")\n",
    "    if choice.lower() == 'n':\n",
    "        break"
   ]
  },
  {
   "cell_type": "code",
   "execution_count": null,
   "id": "17997ac2",
   "metadata": {},
   "outputs": [],
   "source": []
  },
  {
   "cell_type": "code",
   "execution_count": null,
   "id": "f17ea38b",
   "metadata": {},
   "outputs": [],
   "source": []
  }
 ],
 "metadata": {
  "kernelspec": {
   "display_name": "Python 3 (ipykernel)",
   "language": "python",
   "name": "python3"
  },
  "language_info": {
   "codemirror_mode": {
    "name": "ipython",
    "version": 3
   },
   "file_extension": ".py",
   "mimetype": "text/x-python",
   "name": "python",
   "nbconvert_exporter": "python",
   "pygments_lexer": "ipython3",
   "version": "3.9.12"
  },
  "vscode": {
   "interpreter": {
    "hash": "adb273def0bd16bb553f20d600085bd3e050d504610fa33ffb181573d2c8f0b8"
   }
  }
 },
 "nbformat": 4,
 "nbformat_minor": 5
}
